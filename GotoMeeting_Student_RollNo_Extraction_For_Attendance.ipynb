{
 "cells": [
  {
   "cell_type": "markdown",
   "metadata": {},
   "source": [
    "# GotoMeeting_Student_RollNo_Extraction_For_Attendance\n",
    "\n",
    "This Program works only if the format for GotoMeeting Login Name is **`RollNo-StudentName-CollegeName`** Here I have taken roll number as Key for finding if the student is present or not."
   ]
  },
  {
   "cell_type": "code",
   "execution_count": 1,
   "metadata": {},
   "outputs": [],
   "source": [
    "# Import the created module\n",
    "\n",
    "from AttendanceModule import *\n",
    "import pandas as pd"
   ]
  },
  {
   "cell_type": "markdown",
   "metadata": {},
   "source": [
    "### Registered Students CSV File"
   ]
  },
  {
   "cell_type": "code",
   "execution_count": 2,
   "metadata": {},
   "outputs": [
    {
     "data": {
      "text/html": [
       "<div>\n",
       "<style scoped>\n",
       "    .dataframe tbody tr th:only-of-type {\n",
       "        vertical-align: middle;\n",
       "    }\n",
       "\n",
       "    .dataframe tbody tr th {\n",
       "        vertical-align: top;\n",
       "    }\n",
       "\n",
       "    .dataframe thead th {\n",
       "        text-align: right;\n",
       "    }\n",
       "</style>\n",
       "<table border=\"1\" class=\"dataframe\">\n",
       "  <thead>\n",
       "    <tr style=\"text-align: right;\">\n",
       "      <th></th>\n",
       "      <th>Roll Number</th>\n",
       "      <th>Name</th>\n",
       "    </tr>\n",
       "  </thead>\n",
       "  <tbody>\n",
       "    <tr>\n",
       "      <th>0</th>\n",
       "      <td>15FE1A05H2</td>\n",
       "      <td>saikumar</td>\n",
       "    </tr>\n",
       "    <tr>\n",
       "      <th>1</th>\n",
       "      <td>12A51A0406</td>\n",
       "      <td>Balaga Kiran</td>\n",
       "    </tr>\n",
       "    <tr>\n",
       "      <th>2</th>\n",
       "      <td>172G1A0451</td>\n",
       "      <td>N. SAI HOTHRA</td>\n",
       "    </tr>\n",
       "    <tr>\n",
       "      <th>3</th>\n",
       "      <td>317126512123</td>\n",
       "      <td>Balabolu Sai Akhilesh</td>\n",
       "    </tr>\n",
       "    <tr>\n",
       "      <th>4</th>\n",
       "      <td>316126512065</td>\n",
       "      <td>bandaru divya</td>\n",
       "    </tr>\n",
       "  </tbody>\n",
       "</table>\n",
       "</div>"
      ],
      "text/plain": [
       "    Roll Number                   Name\n",
       "0    15FE1A05H2               saikumar\n",
       "1    12A51A0406           Balaga Kiran\n",
       "2    172G1A0451         N. SAI HOTHRA \n",
       "3  317126512123  Balabolu Sai Akhilesh\n",
       "4  316126512065          bandaru divya"
      ]
     },
     "execution_count": 2,
     "metadata": {},
     "output_type": "execute_result"
    }
   ],
   "source": [
    "studentsData = \"Sample_Files/StudentsData.csv\" # <-- Edit this\n",
    "\n",
    "master = csv(studentsData) # Original Students Data in upper case rollNumber\n",
    "\n",
    "master.head()"
   ]
  },
  {
   "cell_type": "markdown",
   "metadata": {},
   "source": [
    "### Gotomeeting Session Attendance Excel File"
   ]
  },
  {
   "cell_type": "code",
   "execution_count": 3,
   "metadata": {},
   "outputs": [],
   "source": [
    "goToMeetingAttendanceFile = \"Sample_Files/GotoMeetingData.xls\" ## Enter File Name Edit this"
   ]
  },
  {
   "cell_type": "code",
   "execution_count": 4,
   "metadata": {},
   "outputs": [
    {
     "data": {
      "text/html": [
       "<div>\n",
       "<style scoped>\n",
       "    .dataframe tbody tr th:only-of-type {\n",
       "        vertical-align: middle;\n",
       "    }\n",
       "\n",
       "    .dataframe tbody tr th {\n",
       "        vertical-align: top;\n",
       "    }\n",
       "\n",
       "    .dataframe thead th {\n",
       "        text-align: right;\n",
       "    }\n",
       "</style>\n",
       "<table border=\"1\" class=\"dataframe\">\n",
       "  <thead>\n",
       "    <tr style=\"text-align: right;\">\n",
       "      <th></th>\n",
       "      <th>Name</th>\n",
       "      <th>Time in Session (minutes)</th>\n",
       "    </tr>\n",
       "  </thead>\n",
       "  <tbody>\n",
       "    <tr>\n",
       "      <th>0</th>\n",
       "      <td>.</td>\n",
       "      <td>6</td>\n",
       "    </tr>\n",
       "    <tr>\n",
       "      <th>1</th>\n",
       "      <td>08A21A0525 -TONDAPU V D BHAVADHEER REDDY- SWAR...</td>\n",
       "      <td>157</td>\n",
       "    </tr>\n",
       "    <tr>\n",
       "      <th>2</th>\n",
       "      <td>1</td>\n",
       "      <td>0</td>\n",
       "    </tr>\n",
       "    <tr>\n",
       "      <th>3</th>\n",
       "      <td>12121A05B3-MANASAVAISHNAVI-VIDYANIKETHAN</td>\n",
       "      <td>17</td>\n",
       "    </tr>\n",
       "    <tr>\n",
       "      <th>4</th>\n",
       "      <td>121710302013-CHITRALA PAVAN-GITAM</td>\n",
       "      <td>164</td>\n",
       "    </tr>\n",
       "  </tbody>\n",
       "</table>\n",
       "</div>"
      ],
      "text/plain": [
       "                                                Name  \\\n",
       "0                                                  .   \n",
       "1  08A21A0525 -TONDAPU V D BHAVADHEER REDDY- SWAR...   \n",
       "2                                                  1   \n",
       "3           12121A05B3-MANASAVAISHNAVI-VIDYANIKETHAN   \n",
       "4                  121710302013-CHITRALA PAVAN-GITAM   \n",
       "\n",
       "   Time in Session (minutes)  \n",
       "0                          6  \n",
       "1                        157  \n",
       "2                          0  \n",
       "3                         17  \n",
       "4                        164  "
      ]
     },
     "execution_count": 4,
     "metadata": {},
     "output_type": "execute_result"
    }
   ],
   "source": [
    "# Importing gotomeeting attendees data with Name in upper case and groupp similar data\n",
    "today = excel(goToMeetingAttendanceFile) \n",
    "today.head()"
   ]
  },
  {
   "cell_type": "markdown",
   "metadata": {},
   "source": [
    "# Extracting the Roll numbers from Name"
   ]
  },
  {
   "cell_type": "markdown",
   "metadata": {},
   "source": [
    "### Spliting the Roll numbers based on `-`,` ' '`,` _`"
   ]
  },
  {
   "cell_type": "code",
   "execution_count": 5,
   "metadata": {},
   "outputs": [
    {
     "name": "stdout",
     "output_type": "stream",
     "text": [
      "[['.', 6], ['08A21A0525', 157], ['1', 0], ['12121A05B3', 17], ['121710302013', 164], ['12A51A0406', 122], ['12NT1A0513', 93], ['14751A0505', 43], ['14KT1A0328', 17], ['150031049', 180], ['15NF1A0426', 66], ['160040861', 160], ['16121A02D6', 176], ['16351A0518', 106], ['168W1A02A4', 182], ['171FA04027', 14], ['171FA04341', 169], ['172G1A0451', 68], ['17481A05A4', 25], ['17551A0411', 151], ['1771080', 67], ['1771080', 16], ['1771084', 56], ['17A81A0537', 172], ['17A81A05C4', 88], ['17A81A05C6', 46], ['17A81A05H2', 162], ['17A81A05I4', 162], ['17B81A04C9', 157], ['17B81A04E2', 154], ['17B81A04F9', 135], ['17BC1A0510', 175], ['17BQ1A0430', 171], ['17FE1A1217', 28], ['17HU1A05A0', 190], ['17JG1A1211', 97], ['17KA1A0506', 171], ['17KN1A1258', 175], ['17L31A05J9', 175], ['17L31A1934', 81], ['17MK1A0535', 105], ['180050041', 76], ['18021D0501', 162], ['183T1A0523', 182], ['186F5A0428', 137], ['188A5A0208', 123], ['18A81A0208', 182], ['18AT1A0527', 68], ['18AT1A0559', 32], ['18AT1A0559', 44], ['18F01A0514', 111], ['18H71A0575', 165], ['18JG1A0568', 143], ['18JG1A0568', 3], ['18KD1A0428', 162], ['18KN1A1211', 174], ['18MG5A0220', 167], ['198A5F0002', 27], ['198A5F0004', 179], ['198A5F0007', 168], ['198A5F0030', 62], ['321810401020', 169], ['A', 0], ['ANALYSIS', 3], ['ANIL', 212], ['BHAVANA', 0], ['DIWAKARREDDY', 1], ['JUVVANABOINA', 4], ['L18CS188', 150], ['L19CS190', 129], ['L19CS198', 175], [\"LINGAYA'S\", 169], ['MADEVI@APSSDC', 170], ['N150292', 88], ['P.PRABHU', 182], ['R141254', 177], ['RANGANAYAKULU', 189], ['SAHUKARA', 3], ['SAI', 54], ['SAMEERA', 6], ['SARVANI', 22], ['SATISH', 2], ['SOMISETTI', 1], ['SRI', 2], ['SUMANTH', 151], ['Y17CS001', 93], ['Y17EC174', 180], ['Y18CS166', 164], ['[WAITING', 0]]\n"
     ]
    }
   ],
   "source": [
    "result = split_name(today[['Name', 'Time in Session (minutes)']], '-')\n",
    "\n",
    "result = split_name(pd.DataFrame(result), ' ')\n",
    "\n",
    "result = split_name(pd.DataFrame(result), '_')\n",
    "\n",
    "FinalRollNumbers = split_name(pd.DataFrame(result), ',')\n",
    "\n",
    "\n",
    "print(FinalRollNumbers)"
   ]
  },
  {
   "cell_type": "code",
   "execution_count": 6,
   "metadata": {},
   "outputs": [
    {
     "data": {
      "text/html": [
       "<div>\n",
       "<style scoped>\n",
       "    .dataframe tbody tr th:only-of-type {\n",
       "        vertical-align: middle;\n",
       "    }\n",
       "\n",
       "    .dataframe tbody tr th {\n",
       "        vertical-align: top;\n",
       "    }\n",
       "\n",
       "    .dataframe thead th {\n",
       "        text-align: right;\n",
       "    }\n",
       "</style>\n",
       "<table border=\"1\" class=\"dataframe\">\n",
       "  <thead>\n",
       "    <tr style=\"text-align: right;\">\n",
       "      <th></th>\n",
       "      <th>Roll Number</th>\n",
       "      <th>Time in min</th>\n",
       "    </tr>\n",
       "  </thead>\n",
       "  <tbody>\n",
       "    <tr>\n",
       "      <th>0</th>\n",
       "      <td>.</td>\n",
       "      <td>6</td>\n",
       "    </tr>\n",
       "    <tr>\n",
       "      <th>1</th>\n",
       "      <td>08A21A0525</td>\n",
       "      <td>157</td>\n",
       "    </tr>\n",
       "    <tr>\n",
       "      <th>2</th>\n",
       "      <td>1</td>\n",
       "      <td>0</td>\n",
       "    </tr>\n",
       "    <tr>\n",
       "      <th>3</th>\n",
       "      <td>12121A05B3</td>\n",
       "      <td>17</td>\n",
       "    </tr>\n",
       "    <tr>\n",
       "      <th>4</th>\n",
       "      <td>121710302013</td>\n",
       "      <td>164</td>\n",
       "    </tr>\n",
       "  </tbody>\n",
       "</table>\n",
       "</div>"
      ],
      "text/plain": [
       "    Roll Number  Time in min\n",
       "0             .            6\n",
       "1    08A21A0525          157\n",
       "2             1            0\n",
       "3    12121A05B3           17\n",
       "4  121710302013          164"
      ]
     },
     "execution_count": 6,
     "metadata": {},
     "output_type": "execute_result"
    }
   ],
   "source": [
    "FinalStudentAttendees = pd.DataFrame(FinalRollNumbers, columns=['Roll Number', 'Time in min'])\n",
    "\n",
    "# Creating Students Attendees DataFrame\n",
    "FinalStudentAttendees.head()"
   ]
  },
  {
   "cell_type": "markdown",
   "metadata": {},
   "source": [
    "### Enter the File Name to save the output"
   ]
  },
  {
   "cell_type": "code",
   "execution_count": 7,
   "metadata": {},
   "outputs": [],
   "source": [
    "outputfile = '2020-07-25'  # <-- Edit this"
   ]
  },
  {
   "cell_type": "markdown",
   "metadata": {},
   "source": [
    "### Giving P/A based on time criteria"
   ]
  },
  {
   "cell_type": "code",
   "execution_count": 8,
   "metadata": {},
   "outputs": [
    {
     "data": {
      "text/html": [
       "<div>\n",
       "<style scoped>\n",
       "    .dataframe tbody tr th:only-of-type {\n",
       "        vertical-align: middle;\n",
       "    }\n",
       "\n",
       "    .dataframe tbody tr th {\n",
       "        vertical-align: top;\n",
       "    }\n",
       "\n",
       "    .dataframe thead th {\n",
       "        text-align: right;\n",
       "    }\n",
       "</style>\n",
       "<table border=\"1\" class=\"dataframe\">\n",
       "  <thead>\n",
       "    <tr style=\"text-align: right;\">\n",
       "      <th></th>\n",
       "      <th>Roll Number</th>\n",
       "      <th>Time in min</th>\n",
       "      <th>2020-07-25</th>\n",
       "    </tr>\n",
       "  </thead>\n",
       "  <tbody>\n",
       "    <tr>\n",
       "      <th>0</th>\n",
       "      <td>.</td>\n",
       "      <td>6</td>\n",
       "      <td>A</td>\n",
       "    </tr>\n",
       "    <tr>\n",
       "      <th>1</th>\n",
       "      <td>08A21A0525</td>\n",
       "      <td>157</td>\n",
       "      <td>P</td>\n",
       "    </tr>\n",
       "    <tr>\n",
       "      <th>2</th>\n",
       "      <td>1</td>\n",
       "      <td>0</td>\n",
       "      <td>A</td>\n",
       "    </tr>\n",
       "    <tr>\n",
       "      <th>3</th>\n",
       "      <td>12121A05B3</td>\n",
       "      <td>17</td>\n",
       "      <td>A</td>\n",
       "    </tr>\n",
       "    <tr>\n",
       "      <th>4</th>\n",
       "      <td>121710302013</td>\n",
       "      <td>164</td>\n",
       "      <td>P</td>\n",
       "    </tr>\n",
       "  </tbody>\n",
       "</table>\n",
       "</div>"
      ],
      "text/plain": [
       "    Roll Number  Time in min 2020-07-25\n",
       "0             .            6          A\n",
       "1    08A21A0525          157          P\n",
       "2             1            0          A\n",
       "3    12121A05B3           17          A\n",
       "4  121710302013          164          P"
      ]
     },
     "execution_count": 8,
     "metadata": {},
     "output_type": "execute_result"
    }
   ],
   "source": [
    "req_time = 100 # let us say for 100 min\n",
    "\n",
    "FinalStudentAttendees[outputfile] = ['P' if i > req_time else 'A' for i in FinalStudentAttendees['Time in min']]\n",
    "\n",
    "FinalStudentAttendees.head()"
   ]
  },
  {
   "cell_type": "markdown",
   "metadata": {},
   "source": [
    "### Merging the main students df and gotomeeting students df"
   ]
  },
  {
   "cell_type": "code",
   "execution_count": 9,
   "metadata": {},
   "outputs": [],
   "source": [
    "FinalStudentAttendees = pd.merge(master, FinalStudentAttendees, how = 'left', on = 'Roll Number')"
   ]
  },
  {
   "cell_type": "code",
   "execution_count": 10,
   "metadata": {},
   "outputs": [
    {
     "data": {
      "text/plain": [
       "(139, 4)"
      ]
     },
     "execution_count": 10,
     "metadata": {},
     "output_type": "execute_result"
    }
   ],
   "source": [
    "FinalStudentAttendees.shape"
   ]
  },
  {
   "cell_type": "code",
   "execution_count": 11,
   "metadata": {},
   "outputs": [],
   "source": [
    "FinalStudentAttendees.fillna('A', inplace=True)"
   ]
  },
  {
   "cell_type": "code",
   "execution_count": 12,
   "metadata": {},
   "outputs": [],
   "source": [
    "FinalStudentAttendees.to_excel(outputfile +'.xlsx', sheet_name=outputfile)"
   ]
  },
  {
   "cell_type": "markdown",
   "metadata": {},
   "source": [
    "### Unknow rollnumbers from our main student list in gotomeeting"
   ]
  },
  {
   "cell_type": "code",
   "execution_count": 13,
   "metadata": {
    "scrolled": false
   },
   "outputs": [
    {
     "name": "stdout",
     "output_type": "stream",
     "text": [
      ". ➡ 6\n",
      "1 ➡ 0\n",
      "1771084 ➡ 56\n",
      "18KD1A0428 ➡ 162\n",
      "A ➡ 0\n",
      "ANALYSIS ➡ 3\n",
      "ANIL ➡ 212\n",
      "BHAVANA ➡ 0\n",
      "DIWAKARREDDY ➡ 1\n",
      "JUVVANABOINA ➡ 4\n",
      "LINGAYA'S ➡ 169\n",
      "MADEVI@APSSDC ➡ 170\n",
      "P.PRABHU ➡ 182\n",
      "RANGANAYAKULU ➡ 189\n",
      "SAHUKARA ➡ 3\n",
      "SAI ➡ 54\n",
      "SAMEERA ➡ 6\n",
      "SARVANI ➡ 22\n",
      "SATISH ➡ 2\n",
      "SOMISETTI ➡ 1\n",
      "SRI ➡ 2\n",
      "SUMANTH ➡ 151\n",
      "[WAITING ➡ 0\n"
     ]
    }
   ],
   "source": [
    "for i in range(len(FinalRollNumbers)):\n",
    "    if FinalRollNumbers[i][0] not in list(FinalStudentAttendees['Roll Number']):\n",
    "        print(' ➡ '.join(map(str, FinalRollNumbers[i])))"
   ]
  }
 ],
 "metadata": {
  "kernelspec": {
   "display_name": "Python 3",
   "language": "python",
   "name": "python3"
  },
  "language_info": {
   "codemirror_mode": {
    "name": "ipython",
    "version": 3
   },
   "file_extension": ".py",
   "mimetype": "text/x-python",
   "name": "python",
   "nbconvert_exporter": "python",
   "pygments_lexer": "ipython3",
   "version": "3.8.3"
  }
 },
 "nbformat": 4,
 "nbformat_minor": 2
}
