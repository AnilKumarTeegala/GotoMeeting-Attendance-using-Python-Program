{
 "cells": [
  {
   "cell_type": "markdown",
   "metadata": {},
   "source": [
    "# GotoMeeting_Student_RollNo_Extraction_For_Attendance\n",
    "\n",
    "This Program works only if the format for GotoMeeting Login Name is **`RollNo-StudentName-CollegeName`** Here I have taken roll number as Key for finding if the student is present or not."
   ]
  },
  {
   "cell_type": "code",
   "execution_count": 1,
   "metadata": {},
   "outputs": [],
   "source": [
    "# Import the created module\n",
    "\n",
    "from AttendanceModule import *"
   ]
  },
  {
   "cell_type": "markdown",
   "metadata": {},
   "source": [
    "### Registered Students CSV File"
   ]
  },
  {
   "cell_type": "code",
   "execution_count": 2,
   "metadata": {},
   "outputs": [
    {
     "data": {
      "text/html": [
       "<div>\n",
       "<style scoped>\n",
       "    .dataframe tbody tr th:only-of-type {\n",
       "        vertical-align: middle;\n",
       "    }\n",
       "\n",
       "    .dataframe tbody tr th {\n",
       "        vertical-align: top;\n",
       "    }\n",
       "\n",
       "    .dataframe thead th {\n",
       "        text-align: right;\n",
       "    }\n",
       "</style>\n",
       "<table border=\"1\" class=\"dataframe\">\n",
       "  <thead>\n",
       "    <tr style=\"text-align: right;\">\n",
       "      <th></th>\n",
       "      <th>Roll Number</th>\n",
       "      <th>Name</th>\n",
       "    </tr>\n",
       "  </thead>\n",
       "  <tbody>\n",
       "    <tr>\n",
       "      <th>0</th>\n",
       "      <td>15FE1A05H2</td>\n",
       "      <td>saikumar</td>\n",
       "    </tr>\n",
       "    <tr>\n",
       "      <th>1</th>\n",
       "      <td>12A51A0406</td>\n",
       "      <td>Balaga Kiran</td>\n",
       "    </tr>\n",
       "    <tr>\n",
       "      <th>2</th>\n",
       "      <td>172G1A0451</td>\n",
       "      <td>N. SAI HOTHRA</td>\n",
       "    </tr>\n",
       "    <tr>\n",
       "      <th>3</th>\n",
       "      <td>317126512123</td>\n",
       "      <td>Balabolu Sai Akhilesh</td>\n",
       "    </tr>\n",
       "    <tr>\n",
       "      <th>4</th>\n",
       "      <td>316126512065</td>\n",
       "      <td>bandaru divya</td>\n",
       "    </tr>\n",
       "  </tbody>\n",
       "</table>\n",
       "</div>"
      ],
      "text/plain": [
       "    Roll Number                   Name\n",
       "0    15FE1A05H2               saikumar\n",
       "1    12A51A0406           Balaga Kiran\n",
       "2    172G1A0451         N. SAI HOTHRA \n",
       "3  317126512123  Balabolu Sai Akhilesh\n",
       "4  316126512065          bandaru divya"
      ]
     },
     "execution_count": 2,
     "metadata": {},
     "output_type": "execute_result"
    }
   ],
   "source": [
    "studentsData = \"Sample_Files/StudentsData.csv\" # <-- Edit this\n",
    "\n",
    "master = csv(studentsData) # Original Students Data \n",
    "\n",
    "master.head()"
   ]
  },
  {
   "cell_type": "markdown",
   "metadata": {},
   "source": [
    "### Converting all the roll numbers to capital "
   ]
  },
  {
   "cell_type": "code",
   "execution_count": 3,
   "metadata": {},
   "outputs": [],
   "source": [
    "master['Roll Number'] = rollNumber_upper(master['Roll Number'])"
   ]
  },
  {
   "cell_type": "markdown",
   "metadata": {},
   "source": [
    "### Gotomeeting Session Attendance Excel File"
   ]
  },
  {
   "cell_type": "code",
   "execution_count": 4,
   "metadata": {},
   "outputs": [],
   "source": [
    "goToMeetingAttendanceFile = \"Sample_Files/GotoMeetingData.xls\" ## Enter File Name Edit this"
   ]
  },
  {
   "cell_type": "code",
   "execution_count": 5,
   "metadata": {},
   "outputs": [
    {
     "data": {
      "text/html": [
       "<div>\n",
       "<style scoped>\n",
       "    .dataframe tbody tr th:only-of-type {\n",
       "        vertical-align: middle;\n",
       "    }\n",
       "\n",
       "    .dataframe tbody tr th {\n",
       "        vertical-align: top;\n",
       "    }\n",
       "\n",
       "    .dataframe thead th {\n",
       "        text-align: right;\n",
       "    }\n",
       "</style>\n",
       "<table border=\"1\" class=\"dataframe\">\n",
       "  <thead>\n",
       "    <tr style=\"text-align: right;\">\n",
       "      <th></th>\n",
       "      <th>Name</th>\n",
       "      <th>Time in Session (minutes)</th>\n",
       "    </tr>\n",
       "  </thead>\n",
       "  <tbody>\n",
       "    <tr>\n",
       "      <th>0</th>\n",
       "      <td>.</td>\n",
       "      <td>6</td>\n",
       "    </tr>\n",
       "    <tr>\n",
       "      <th>1</th>\n",
       "      <td>08A21A0525 -TONDAPU V D BHAVADHEER REDDY- SWAR...</td>\n",
       "      <td>122</td>\n",
       "    </tr>\n",
       "    <tr>\n",
       "      <th>2</th>\n",
       "      <td>08A21A0525 -TONDAPU V D BHAVADHEER REDDY- SWAR...</td>\n",
       "      <td>35</td>\n",
       "    </tr>\n",
       "    <tr>\n",
       "      <th>3</th>\n",
       "      <td>1</td>\n",
       "      <td>0</td>\n",
       "    </tr>\n",
       "    <tr>\n",
       "      <th>4</th>\n",
       "      <td>12121a05b3-ManasaVaishnavi-vidyanikethan</td>\n",
       "      <td>17</td>\n",
       "    </tr>\n",
       "  </tbody>\n",
       "</table>\n",
       "</div>"
      ],
      "text/plain": [
       "                                                Name  \\\n",
       "0                                                  .   \n",
       "1  08A21A0525 -TONDAPU V D BHAVADHEER REDDY- SWAR...   \n",
       "2  08A21A0525 -TONDAPU V D BHAVADHEER REDDY- SWAR...   \n",
       "3                                                  1   \n",
       "4           12121a05b3-ManasaVaishnavi-vidyanikethan   \n",
       "\n",
       "   Time in Session (minutes)  \n",
       "0                          6  \n",
       "1                        122  \n",
       "2                         35  \n",
       "3                          0  \n",
       "4                         17  "
      ]
     },
     "execution_count": 5,
     "metadata": {},
     "output_type": "execute_result"
    }
   ],
   "source": [
    "today = excel(goToMeetingAttendanceFile)\n",
    "today.head()"
   ]
  },
  {
   "cell_type": "markdown",
   "metadata": {},
   "source": [
    "### Converting all the names to capital to avoid duplicates"
   ]
  },
  {
   "cell_type": "code",
   "execution_count": 6,
   "metadata": {},
   "outputs": [],
   "source": [
    "today['Name'] = rollNumber_upper(today['Name']) "
   ]
  },
  {
   "cell_type": "markdown",
   "metadata": {},
   "source": [
    "# Extracting the Roll numbers from Name"
   ]
  },
  {
   "cell_type": "markdown",
   "metadata": {},
   "source": [
    "## Grouping all the rejoined students if any and calculating total time in the session"
   ]
  },
  {
   "cell_type": "code",
   "execution_count": 7,
   "metadata": {},
   "outputs": [],
   "source": [
    "today = today.groupby('Name').sum().reset_index()"
   ]
  },
  {
   "cell_type": "markdown",
   "metadata": {},
   "source": [
    "### Taking only students who have been in the meeting atleast 90 min "
   ]
  },
  {
   "cell_type": "code",
   "execution_count": 8,
   "metadata": {},
   "outputs": [
    {
     "data": {
      "text/html": [
       "<div>\n",
       "<style scoped>\n",
       "    .dataframe tbody tr th:only-of-type {\n",
       "        vertical-align: middle;\n",
       "    }\n",
       "\n",
       "    .dataframe tbody tr th {\n",
       "        vertical-align: top;\n",
       "    }\n",
       "\n",
       "    .dataframe thead th {\n",
       "        text-align: right;\n",
       "    }\n",
       "</style>\n",
       "<table border=\"1\" class=\"dataframe\">\n",
       "  <thead>\n",
       "    <tr style=\"text-align: right;\">\n",
       "      <th></th>\n",
       "      <th>Name</th>\n",
       "      <th>Time in Session (minutes)</th>\n",
       "    </tr>\n",
       "  </thead>\n",
       "  <tbody>\n",
       "    <tr>\n",
       "      <th>1</th>\n",
       "      <td>08A21A0525 -TONDAPU V D BHAVADHEER REDDY- SWAR...</td>\n",
       "      <td>157</td>\n",
       "    </tr>\n",
       "    <tr>\n",
       "      <th>4</th>\n",
       "      <td>121710302013-CHITRALA PAVAN-GITAM</td>\n",
       "      <td>164</td>\n",
       "    </tr>\n",
       "    <tr>\n",
       "      <th>5</th>\n",
       "      <td>12A51A0406-BALAGA KIRAN-AITAM</td>\n",
       "      <td>122</td>\n",
       "    </tr>\n",
       "    <tr>\n",
       "      <th>6</th>\n",
       "      <td>12NT1A0513 - SRINIJA - VIET</td>\n",
       "      <td>93</td>\n",
       "    </tr>\n",
       "    <tr>\n",
       "      <th>9</th>\n",
       "      <td>150031049-SAINAGALAKSHMI YERRAMANENI-KLU</td>\n",
       "      <td>180</td>\n",
       "    </tr>\n",
       "  </tbody>\n",
       "</table>\n",
       "</div>"
      ],
      "text/plain": [
       "                                                Name  \\\n",
       "1  08A21A0525 -TONDAPU V D BHAVADHEER REDDY- SWAR...   \n",
       "4                  121710302013-CHITRALA PAVAN-GITAM   \n",
       "5                      12A51A0406-BALAGA KIRAN-AITAM   \n",
       "6                        12NT1A0513 - SRINIJA - VIET   \n",
       "9           150031049-SAINAGALAKSHMI YERRAMANENI-KLU   \n",
       "\n",
       "   Time in Session (minutes)  \n",
       "1                        157  \n",
       "4                        164  \n",
       "5                        122  \n",
       "6                         93  \n",
       "9                        180  "
      ]
     },
     "execution_count": 8,
     "metadata": {},
     "output_type": "execute_result"
    }
   ],
   "source": [
    "req_time = filterdf(today, 90)\n",
    "req_time.head()"
   ]
  },
  {
   "cell_type": "markdown",
   "metadata": {},
   "source": [
    "### Spliting the Roll numbers based on `-`,` ' '`,` _`"
   ]
  },
  {
   "cell_type": "code",
   "execution_count": 9,
   "metadata": {},
   "outputs": [
    {
     "name": "stdout",
     "output_type": "stream",
     "text": [
      "['08A21A0525', '121710302013', '12A51A0406', '12NT1A0513', '150031049', '160040861', '16121A02D6', '16351A0518', '168W1A02A4', '171FA04341', '17551A0411', '17A81A0537', '17A81A05H2', '17A81A05I4', '17B81A04C9', '17B81A04E2', '17B81A04F9', '17BC1A0510', '17BQ1A0430', '17HU1A05A0', '17JG1A1211', '17KA1A0506', '17KN1A1258', '17L31A05J9', '17MK1A0535', '18021D0501', '183T1A0523', '186F5A0428', '188A5A0208', '18A81A0208', '18F01A0514', '18H71A0575', '18JG1A0568', '18KD1A0428', '18KN1A1211', '18MG5A0220', '198A5F0004', '198A5F0007', '321810401020', 'L18CS188', 'L19CS190', 'L19CS198', \"LINGAYA'S\", 'P.PRABHU', 'R141254', 'Y17CS001', 'Y17EC174', 'Y18CS166']\n"
     ]
    }
   ],
   "source": [
    "result = split_name(req_time['Name'], '-')\n",
    "\n",
    "result = split_name(result, ' ')\n",
    "\n",
    "result = split_name(result, '_')\n",
    "\n",
    "\n",
    "FinalRollNumbers = split_name(result, ',')\n",
    "\n",
    "\n",
    "FinalRollNumbers = remove_trainers(FinalRollNumbers)\n",
    "\n",
    "print(FinalRollNumbers)\n"
   ]
  },
  {
   "cell_type": "code",
   "execution_count": 10,
   "metadata": {},
   "outputs": [
    {
     "data": {
      "text/plain": [
       "(48, 48)"
      ]
     },
     "execution_count": 10,
     "metadata": {},
     "output_type": "execute_result"
    }
   ],
   "source": [
    "len(FinalRollNumbers), len(list(set(FinalRollNumbers)))"
   ]
  },
  {
   "cell_type": "code",
   "execution_count": 11,
   "metadata": {},
   "outputs": [],
   "source": [
    "FinalRollNumbers = list(set(FinalRollNumbers))"
   ]
  },
  {
   "cell_type": "code",
   "execution_count": 12,
   "metadata": {
    "scrolled": false
   },
   "outputs": [
    {
     "data": {
      "text/plain": [
       "['321810401020',\n",
       " \"LINGAYA'S\",\n",
       " '17KN1A1258',\n",
       " '17BQ1A0430',\n",
       " '17KA1A0506',\n",
       " '18KD1A0428',\n",
       " '16351A0518',\n",
       " '18A81A0208',\n",
       " 'L18CS188',\n",
       " 'L19CS190',\n",
       " '17JG1A1211',\n",
       " '198A5F0004',\n",
       " '17B81A04F9',\n",
       " '18F01A0514',\n",
       " '17551A0411',\n",
       " '18KN1A1211',\n",
       " '198A5F0007',\n",
       " '08A21A0525',\n",
       " '18021D0501',\n",
       " '17B81A04C9',\n",
       " '17A81A05H2',\n",
       " '17MK1A0535',\n",
       " '121710302013',\n",
       " '183T1A0523',\n",
       " '17BC1A0510',\n",
       " 'R141254',\n",
       " '150031049',\n",
       " 'P.PRABHU',\n",
       " '17A81A05I4',\n",
       " 'Y18CS166',\n",
       " '160040861',\n",
       " '17A81A0537',\n",
       " '12A51A0406',\n",
       " '17HU1A05A0',\n",
       " '188A5A0208',\n",
       " '171FA04341',\n",
       " '17B81A04E2',\n",
       " 'Y17EC174',\n",
       " '17L31A05J9',\n",
       " '168W1A02A4',\n",
       " '12NT1A0513',\n",
       " '18H71A0575',\n",
       " '16121A02D6',\n",
       " '18MG5A0220',\n",
       " 'L19CS198',\n",
       " 'Y17CS001',\n",
       " '186F5A0428',\n",
       " '18JG1A0568']"
      ]
     },
     "execution_count": 12,
     "metadata": {},
     "output_type": "execute_result"
    }
   ],
   "source": [
    "FinalRollNumbers"
   ]
  },
  {
   "cell_type": "markdown",
   "metadata": {},
   "source": [
    "### Removing non roll numbers data from the list"
   ]
  },
  {
   "cell_type": "code",
   "execution_count": 13,
   "metadata": {},
   "outputs": [
    {
     "name": "stdout",
     "output_type": "stream",
     "text": [
      "LINGAYA'S\n",
      "P.PRABHU\n"
     ]
    },
    {
     "data": {
      "text/plain": [
       "46"
      ]
     },
     "execution_count": 13,
     "metadata": {},
     "output_type": "execute_result"
    }
   ],
   "source": [
    "req = []\n",
    "\n",
    "for num in FinalRollNumbers:\n",
    "    if num.isalnum():\n",
    "        req.append(num)\n",
    "    else:\n",
    "        print(num)\n",
    "len(req)"
   ]
  },
  {
   "cell_type": "code",
   "execution_count": 14,
   "metadata": {},
   "outputs": [],
   "source": [
    "FinalRollNumbers = req.copy()"
   ]
  },
  {
   "cell_type": "code",
   "execution_count": 15,
   "metadata": {},
   "outputs": [],
   "source": [
    "import pandas as pd"
   ]
  },
  {
   "cell_type": "markdown",
   "metadata": {},
   "source": [
    "### Enter the File Name to save the output"
   ]
  },
  {
   "cell_type": "code",
   "execution_count": 16,
   "metadata": {},
   "outputs": [],
   "source": [
    "outputfile = '2020-07-25'  # <-- Edit this"
   ]
  },
  {
   "cell_type": "code",
   "execution_count": 17,
   "metadata": {},
   "outputs": [
    {
     "data": {
      "text/html": [
       "<div>\n",
       "<style scoped>\n",
       "    .dataframe tbody tr th:only-of-type {\n",
       "        vertical-align: middle;\n",
       "    }\n",
       "\n",
       "    .dataframe tbody tr th {\n",
       "        vertical-align: top;\n",
       "    }\n",
       "\n",
       "    .dataframe thead th {\n",
       "        text-align: right;\n",
       "    }\n",
       "</style>\n",
       "<table border=\"1\" class=\"dataframe\">\n",
       "  <thead>\n",
       "    <tr style=\"text-align: right;\">\n",
       "      <th></th>\n",
       "      <th>Roll Number</th>\n",
       "      <th>2020-07-25</th>\n",
       "    </tr>\n",
       "  </thead>\n",
       "  <tbody>\n",
       "    <tr>\n",
       "      <th>0</th>\n",
       "      <td>321810401020</td>\n",
       "      <td>P</td>\n",
       "    </tr>\n",
       "    <tr>\n",
       "      <th>1</th>\n",
       "      <td>17KN1A1258</td>\n",
       "      <td>P</td>\n",
       "    </tr>\n",
       "    <tr>\n",
       "      <th>2</th>\n",
       "      <td>17BQ1A0430</td>\n",
       "      <td>P</td>\n",
       "    </tr>\n",
       "    <tr>\n",
       "      <th>3</th>\n",
       "      <td>17KA1A0506</td>\n",
       "      <td>P</td>\n",
       "    </tr>\n",
       "    <tr>\n",
       "      <th>4</th>\n",
       "      <td>18KD1A0428</td>\n",
       "      <td>P</td>\n",
       "    </tr>\n",
       "  </tbody>\n",
       "</table>\n",
       "</div>"
      ],
      "text/plain": [
       "    Roll Number 2020-07-25\n",
       "0  321810401020          P\n",
       "1    17KN1A1258          P\n",
       "2    17BQ1A0430          P\n",
       "3    17KA1A0506          P\n",
       "4    18KD1A0428          P"
      ]
     },
     "execution_count": 17,
     "metadata": {},
     "output_type": "execute_result"
    }
   ],
   "source": [
    "FinalStudentAttendees = pd.DataFrame(FinalRollNumbers, columns=['Roll Number'])\n",
    "FinalStudentAttendees[outputfile] = ['P' for i in range(len(FinalRollNumbers))]\n",
    "FinalStudentAttendees.head()"
   ]
  },
  {
   "cell_type": "markdown",
   "metadata": {},
   "source": [
    "### Merging the main students df and gotomeeting students df"
   ]
  },
  {
   "cell_type": "code",
   "execution_count": 18,
   "metadata": {},
   "outputs": [],
   "source": [
    "FinalStudentAttendees = pd.merge(master, FinalStudentAttendees, how = 'left', on = 'Roll Number')"
   ]
  },
  {
   "cell_type": "code",
   "execution_count": 19,
   "metadata": {},
   "outputs": [
    {
     "data": {
      "text/plain": [
       "(135, 2)"
      ]
     },
     "execution_count": 19,
     "metadata": {},
     "output_type": "execute_result"
    }
   ],
   "source": [
    "master.shape"
   ]
  },
  {
   "cell_type": "code",
   "execution_count": 20,
   "metadata": {},
   "outputs": [
    {
     "data": {
      "text/plain": [
       "P    45\n",
       "Name: 2020-07-25, dtype: int64"
      ]
     },
     "execution_count": 20,
     "metadata": {},
     "output_type": "execute_result"
    }
   ],
   "source": [
    "FinalStudentAttendees[outputfile].value_counts()"
   ]
  },
  {
   "cell_type": "code",
   "execution_count": 21,
   "metadata": {
    "scrolled": true
   },
   "outputs": [
    {
     "data": {
      "text/html": [
       "<div>\n",
       "<style scoped>\n",
       "    .dataframe tbody tr th:only-of-type {\n",
       "        vertical-align: middle;\n",
       "    }\n",
       "\n",
       "    .dataframe tbody tr th {\n",
       "        vertical-align: top;\n",
       "    }\n",
       "\n",
       "    .dataframe thead th {\n",
       "        text-align: right;\n",
       "    }\n",
       "</style>\n",
       "<table border=\"1\" class=\"dataframe\">\n",
       "  <thead>\n",
       "    <tr style=\"text-align: right;\">\n",
       "      <th></th>\n",
       "      <th>Roll Number</th>\n",
       "      <th>Name_x</th>\n",
       "      <th>Name_y</th>\n",
       "      <th>2020-07-25</th>\n",
       "    </tr>\n",
       "  </thead>\n",
       "  <tbody>\n",
       "    <tr>\n",
       "      <th>127</th>\n",
       "      <td>171FA04027</td>\n",
       "      <td>Katragadda Bala Siva Sai Samskar</td>\n",
       "      <td>Katragadda Bala Siva Sai Samskar</td>\n",
       "      <td>NaN</td>\n",
       "    </tr>\n",
       "    <tr>\n",
       "      <th>128</th>\n",
       "      <td>171FA04341</td>\n",
       "      <td>Himaja Katta</td>\n",
       "      <td>Himaja Katta</td>\n",
       "      <td>P</td>\n",
       "    </tr>\n",
       "    <tr>\n",
       "      <th>129</th>\n",
       "      <td>17L31A1934</td>\n",
       "      <td>DHANTULURI SWATHI SRI</td>\n",
       "      <td>DHANTULURI SWATHI SRI</td>\n",
       "      <td>NaN</td>\n",
       "    </tr>\n",
       "    <tr>\n",
       "      <th>130</th>\n",
       "      <td>18L31A0592</td>\n",
       "      <td>DASARI SHYAM KUMAR</td>\n",
       "      <td>DASARI SHYAM KUMAR</td>\n",
       "      <td>NaN</td>\n",
       "    </tr>\n",
       "    <tr>\n",
       "      <th>131</th>\n",
       "      <td>18L31A05J8</td>\n",
       "      <td>Manikanta Goli</td>\n",
       "      <td>Manikanta Goli</td>\n",
       "      <td>NaN</td>\n",
       "    </tr>\n",
       "    <tr>\n",
       "      <th>132</th>\n",
       "      <td>18FE1A05A1</td>\n",
       "      <td>PADALA LIKHITH RISHI</td>\n",
       "      <td>PADALA LIKHITH RISHI</td>\n",
       "      <td>NaN</td>\n",
       "    </tr>\n",
       "    <tr>\n",
       "      <th>133</th>\n",
       "      <td>15NN1A1281</td>\n",
       "      <td>Navya Gonuguntla</td>\n",
       "      <td>Navya Gonuguntla</td>\n",
       "      <td>NaN</td>\n",
       "    </tr>\n",
       "    <tr>\n",
       "      <th>134</th>\n",
       "      <td>12NT1A0513</td>\n",
       "      <td>Srinija</td>\n",
       "      <td>Srinija</td>\n",
       "      <td>P</td>\n",
       "    </tr>\n",
       "    <tr>\n",
       "      <th>135</th>\n",
       "      <td>158W1A0498</td>\n",
       "      <td>PILLI GNANA SWETHA</td>\n",
       "      <td>PILLI GNANA SWETHA</td>\n",
       "      <td>NaN</td>\n",
       "    </tr>\n",
       "    <tr>\n",
       "      <th>136</th>\n",
       "      <td>153B1A0538</td>\n",
       "      <td>Konala Veera Badhra Trinadh Reddy</td>\n",
       "      <td>Konala Veera Badhra Trinadh Reddy</td>\n",
       "      <td>NaN</td>\n",
       "    </tr>\n",
       "  </tbody>\n",
       "</table>\n",
       "</div>"
      ],
      "text/plain": [
       "    Roll Number                             Name_x  \\\n",
       "127  171FA04027   Katragadda Bala Siva Sai Samskar   \n",
       "128  171FA04341                       Himaja Katta   \n",
       "129  17L31A1934              DHANTULURI SWATHI SRI   \n",
       "130  18L31A0592                 DASARI SHYAM KUMAR   \n",
       "131  18L31A05J8                    Manikanta Goli    \n",
       "132  18FE1A05A1              PADALA LIKHITH RISHI    \n",
       "133  15NN1A1281                   Navya Gonuguntla   \n",
       "134  12NT1A0513                            Srinija   \n",
       "135  158W1A0498                PILLI GNANA SWETHA    \n",
       "136  153B1A0538  Konala Veera Badhra Trinadh Reddy   \n",
       "\n",
       "                                Name_y 2020-07-25  \n",
       "127   Katragadda Bala Siva Sai Samskar        NaN  \n",
       "128                       Himaja Katta          P  \n",
       "129              DHANTULURI SWATHI SRI        NaN  \n",
       "130                 DASARI SHYAM KUMAR        NaN  \n",
       "131                    Manikanta Goli         NaN  \n",
       "132              PADALA LIKHITH RISHI         NaN  \n",
       "133                   Navya Gonuguntla        NaN  \n",
       "134                            Srinija          P  \n",
       "135                PILLI GNANA SWETHA         NaN  \n",
       "136  Konala Veera Badhra Trinadh Reddy        NaN  "
      ]
     },
     "execution_count": 21,
     "metadata": {},
     "output_type": "execute_result"
    }
   ],
   "source": [
    "Unknown = pd.merge(master, FinalStudentAttendees, how = 'right', on = 'Roll Number').tail(10)\n",
    "Unknown"
   ]
  },
  {
   "cell_type": "code",
   "execution_count": 22,
   "metadata": {},
   "outputs": [
    {
     "data": {
      "text/plain": [
       "(135, 3)"
      ]
     },
     "execution_count": 22,
     "metadata": {},
     "output_type": "execute_result"
    }
   ],
   "source": [
    "FinalStudentAttendees.shape"
   ]
  },
  {
   "cell_type": "code",
   "execution_count": 23,
   "metadata": {},
   "outputs": [],
   "source": [
    "FinalStudentAttendees.fillna('A', inplace=True)"
   ]
  },
  {
   "cell_type": "code",
   "execution_count": 24,
   "metadata": {},
   "outputs": [],
   "source": [
    "FinalStudentAttendees.to_excel(outputfile +'.xlsx', sheet_name=outputfile)"
   ]
  },
  {
   "cell_type": "markdown",
   "metadata": {},
   "source": [
    "### Unknow rollnumbers from our main student list in gotomeeting"
   ]
  },
  {
   "cell_type": "code",
   "execution_count": 25,
   "metadata": {
    "scrolled": true
   },
   "outputs": [
    {
     "name": "stdout",
     "output_type": "stream",
     "text": [
      "18KD1A0428\n"
     ]
    }
   ],
   "source": [
    "for i in range(len(FinalRollNumbers)):\n",
    "    if FinalRollNumbers[i] not in list(FinalStudentAttendees['Roll Number']):\n",
    "        print(FinalRollNumbers[i])"
   ]
  }
 ],
 "metadata": {
  "kernelspec": {
   "display_name": "Python 3",
   "language": "python",
   "name": "python3"
  },
  "language_info": {
   "codemirror_mode": {
    "name": "ipython",
    "version": 3
   },
   "file_extension": ".py",
   "mimetype": "text/x-python",
   "name": "python",
   "nbconvert_exporter": "python",
   "pygments_lexer": "ipython3",
   "version": "3.8.3"
  }
 },
 "nbformat": 4,
 "nbformat_minor": 2
}
