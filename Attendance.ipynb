{
 "cells": [
  {
   "cell_type": "code",
   "execution_count": 2,
   "metadata": {},
   "outputs": [],
   "source": [
    "# Import the created module\n",
    "\n",
    "from attendance import *"
   ]
  },
  {
   "cell_type": "markdown",
   "metadata": {},
   "source": [
    "### Registered Students CSV File"
   ]
  },
  {
   "cell_type": "code",
   "execution_count": 3,
   "metadata": {},
   "outputs": [
    {
     "data": {
      "text/html": [
       "<div>\n",
       "<style scoped>\n",
       "    .dataframe tbody tr th:only-of-type {\n",
       "        vertical-align: middle;\n",
       "    }\n",
       "\n",
       "    .dataframe tbody tr th {\n",
       "        vertical-align: top;\n",
       "    }\n",
       "\n",
       "    .dataframe thead th {\n",
       "        text-align: right;\n",
       "    }\n",
       "</style>\n",
       "<table border=\"1\" class=\"dataframe\">\n",
       "  <thead>\n",
       "    <tr style=\"text-align: right;\">\n",
       "      <th></th>\n",
       "      <th>Roll Number</th>\n",
       "      <th>Student Name</th>\n",
       "    </tr>\n",
       "  </thead>\n",
       "  <tbody>\n",
       "    <tr>\n",
       "      <th>0</th>\n",
       "      <td>17JF1A0409</td>\n",
       "      <td>Chandrakala</td>\n",
       "    </tr>\n",
       "    <tr>\n",
       "      <th>1</th>\n",
       "      <td>17F21A0205</td>\n",
       "      <td>Nese Dharani</td>\n",
       "    </tr>\n",
       "    <tr>\n",
       "      <th>2</th>\n",
       "      <td>18F21A0433</td>\n",
       "      <td>V.Harshavardhanreddy</td>\n",
       "    </tr>\n",
       "    <tr>\n",
       "      <th>3</th>\n",
       "      <td>19F25AO417</td>\n",
       "      <td>B.Sree lakshmi</td>\n",
       "    </tr>\n",
       "    <tr>\n",
       "      <th>4</th>\n",
       "      <td>184G5A0307</td>\n",
       "      <td>Chinnadasthagirivali Komali</td>\n",
       "    </tr>\n",
       "  </tbody>\n",
       "</table>\n",
       "</div>"
      ],
      "text/plain": [
       "  Roll Number                 Student Name\n",
       "0  17JF1A0409                  Chandrakala\n",
       "1  17F21A0205                 Nese Dharani\n",
       "2  18F21A0433         V.Harshavardhanreddy\n",
       "3  19F25AO417               B.Sree lakshmi\n",
       "4  184G5A0307  Chinnadasthagirivali Komali"
      ]
     },
     "execution_count": 3,
     "metadata": {},
     "output_type": "execute_result"
    }
   ],
   "source": [
    "master = csv(\"Master Student List.csv\")\n",
    "\n",
    "master.head()"
   ]
  },
  {
   "cell_type": "markdown",
   "metadata": {},
   "source": [
    "### Gotomeeting Session Attendance Excel File"
   ]
  },
  {
   "cell_type": "code",
   "execution_count": 4,
   "metadata": {},
   "outputs": [],
   "source": [
    "goToMeetingAttendanceFile = \"Day6_27_2020.xls\""
   ]
  },
  {
   "cell_type": "code",
   "execution_count": 5,
   "metadata": {},
   "outputs": [
    {
     "data": {
      "text/html": [
       "<div>\n",
       "<style scoped>\n",
       "    .dataframe tbody tr th:only-of-type {\n",
       "        vertical-align: middle;\n",
       "    }\n",
       "\n",
       "    .dataframe tbody tr th {\n",
       "        vertical-align: top;\n",
       "    }\n",
       "\n",
       "    .dataframe thead th {\n",
       "        text-align: right;\n",
       "    }\n",
       "</style>\n",
       "<table border=\"1\" class=\"dataframe\">\n",
       "  <thead>\n",
       "    <tr style=\"text-align: right;\">\n",
       "      <th></th>\n",
       "      <th>Name</th>\n",
       "      <th>Email Address</th>\n",
       "      <th>Time in Session (minutes)</th>\n",
       "    </tr>\n",
       "  </thead>\n",
       "  <tbody>\n",
       "    <tr>\n",
       "      <th>0</th>\n",
       "      <td>11307825-korada saran kumar-(LPU) lovely profe...</td>\n",
       "      <td>koradasarankumar@gmail.com</td>\n",
       "      <td>129</td>\n",
       "    </tr>\n",
       "    <tr>\n",
       "      <th>1</th>\n",
       "      <td>1210416115-Charan Teja Chetty Muni- GITAM Vizag</td>\n",
       "      <td>charantej.chetty@gmail.com</td>\n",
       "      <td>8</td>\n",
       "    </tr>\n",
       "    <tr>\n",
       "      <th>2</th>\n",
       "      <td>1210416115-Charan Teja Chetty Muni- GITAM Vizag</td>\n",
       "      <td>charantej.chetty@gmail.com</td>\n",
       "      <td>106</td>\n",
       "    </tr>\n",
       "    <tr>\n",
       "      <th>3</th>\n",
       "      <td>121710304049-vijay sana-gitam</td>\n",
       "      <td>vijaysvijju.11@outlook.com</td>\n",
       "      <td>129</td>\n",
       "    </tr>\n",
       "    <tr>\n",
       "      <th>4</th>\n",
       "      <td>133C1A0505-DOKKU SOMA GANESH-3C ( D.M.S.S.V.H ...</td>\n",
       "      <td>somaganesh.d@gmail.com</td>\n",
       "      <td>0</td>\n",
       "    </tr>\n",
       "  </tbody>\n",
       "</table>\n",
       "</div>"
      ],
      "text/plain": [
       "                                                Name  \\\n",
       "0  11307825-korada saran kumar-(LPU) lovely profe...   \n",
       "1    1210416115-Charan Teja Chetty Muni- GITAM Vizag   \n",
       "2    1210416115-Charan Teja Chetty Muni- GITAM Vizag   \n",
       "3                      121710304049-vijay sana-gitam   \n",
       "4  133C1A0505-DOKKU SOMA GANESH-3C ( D.M.S.S.V.H ...   \n",
       "\n",
       "                Email Address  Time in Session (minutes)  \n",
       "0  koradasarankumar@gmail.com                        129  \n",
       "1  charantej.chetty@gmail.com                          8  \n",
       "2  charantej.chetty@gmail.com                        106  \n",
       "3  vijaysvijju.11@outlook.com                        129  \n",
       "4      somaganesh.d@gmail.com                          0  "
      ]
     },
     "execution_count": 5,
     "metadata": {},
     "output_type": "execute_result"
    }
   ],
   "source": [
    "day4 = excel(goToMeetingAttendanceFile)\n",
    "day4.head()"
   ]
  },
  {
   "cell_type": "markdown",
   "metadata": {},
   "source": [
    "# Extracting the Roll numbers from Name"
   ]
  },
  {
   "cell_type": "markdown",
   "metadata": {},
   "source": [
    "## Grouping all the rejoined students if any and calculating total time in the session"
   ]
  },
  {
   "cell_type": "code",
   "execution_count": 6,
   "metadata": {},
   "outputs": [],
   "source": [
    "day4.groupby('Name').sum().reset_index(inplace = True)"
   ]
  },
  {
   "cell_type": "markdown",
   "metadata": {},
   "source": [
    "### Taking only students who have been in the meeting atleast 45min "
   ]
  },
  {
   "cell_type": "code",
   "execution_count": 7,
   "metadata": {},
   "outputs": [
    {
     "data": {
      "text/html": [
       "<div>\n",
       "<style scoped>\n",
       "    .dataframe tbody tr th:only-of-type {\n",
       "        vertical-align: middle;\n",
       "    }\n",
       "\n",
       "    .dataframe tbody tr th {\n",
       "        vertical-align: top;\n",
       "    }\n",
       "\n",
       "    .dataframe thead th {\n",
       "        text-align: right;\n",
       "    }\n",
       "</style>\n",
       "<table border=\"1\" class=\"dataframe\">\n",
       "  <thead>\n",
       "    <tr style=\"text-align: right;\">\n",
       "      <th></th>\n",
       "      <th>Name</th>\n",
       "      <th>Email Address</th>\n",
       "      <th>Time in Session (minutes)</th>\n",
       "    </tr>\n",
       "  </thead>\n",
       "  <tbody>\n",
       "    <tr>\n",
       "      <th>0</th>\n",
       "      <td>11307825-korada saran kumar-(LPU) lovely profe...</td>\n",
       "      <td>koradasarankumar@gmail.com</td>\n",
       "      <td>129</td>\n",
       "    </tr>\n",
       "    <tr>\n",
       "      <th>2</th>\n",
       "      <td>1210416115-Charan Teja Chetty Muni- GITAM Vizag</td>\n",
       "      <td>charantej.chetty@gmail.com</td>\n",
       "      <td>106</td>\n",
       "    </tr>\n",
       "    <tr>\n",
       "      <th>3</th>\n",
       "      <td>121710304049-vijay sana-gitam</td>\n",
       "      <td>vijaysvijju.11@outlook.com</td>\n",
       "      <td>129</td>\n",
       "    </tr>\n",
       "    <tr>\n",
       "      <th>6</th>\n",
       "      <td>133C1A0505-DOKKU SOMA GANESH-3C ( D.M.S.S.V.H ...</td>\n",
       "      <td>somaganesh.d@gmail.com</td>\n",
       "      <td>116</td>\n",
       "    </tr>\n",
       "    <tr>\n",
       "      <th>8</th>\n",
       "      <td>15258-M-110_Ganesh Perumallu _Swarnandhra</td>\n",
       "      <td>v.ganeshperumallu@gmail.com</td>\n",
       "      <td>128</td>\n",
       "    </tr>\n",
       "  </tbody>\n",
       "</table>\n",
       "</div>"
      ],
      "text/plain": [
       "                                                Name  \\\n",
       "0  11307825-korada saran kumar-(LPU) lovely profe...   \n",
       "2    1210416115-Charan Teja Chetty Muni- GITAM Vizag   \n",
       "3                      121710304049-vijay sana-gitam   \n",
       "6  133C1A0505-DOKKU SOMA GANESH-3C ( D.M.S.S.V.H ...   \n",
       "8          15258-M-110_Ganesh Perumallu _Swarnandhra   \n",
       "\n",
       "                 Email Address  Time in Session (minutes)  \n",
       "0   koradasarankumar@gmail.com                        129  \n",
       "2   charantej.chetty@gmail.com                        106  \n",
       "3   vijaysvijju.11@outlook.com                        129  \n",
       "6       somaganesh.d@gmail.com                        116  \n",
       "8  v.ganeshperumallu@gmail.com                        128  "
      ]
     },
     "execution_count": 7,
     "metadata": {},
     "output_type": "execute_result"
    }
   ],
   "source": [
    "req_time = filterdf(day4, 45)\n",
    "req_time.head()"
   ]
  },
  {
   "cell_type": "code",
   "execution_count": 8,
   "metadata": {},
   "outputs": [
    {
     "data": {
      "text/plain": [
       "(72, 3)"
      ]
     },
     "execution_count": 8,
     "metadata": {},
     "output_type": "execute_result"
    }
   ],
   "source": [
    "req_time.shape"
   ]
  },
  {
   "cell_type": "code",
   "execution_count": 9,
   "metadata": {},
   "outputs": [
    {
     "data": {
      "text/plain": [
       "Series([], Name: Name, dtype: object)"
      ]
     },
     "execution_count": 9,
     "metadata": {},
     "output_type": "execute_result"
    }
   ],
   "source": [
    "req_time['Name'][req_time['Name'].duplicated()]"
   ]
  },
  {
   "cell_type": "markdown",
   "metadata": {},
   "source": [
    "### Spliting the Roll numbers based on `-, ' ', _, (`"
   ]
  },
  {
   "cell_type": "code",
   "execution_count": 10,
   "metadata": {},
   "outputs": [],
   "source": [
    "result = split_name(req_time['Name'], '-')\n",
    "\n",
    "result = split_name(result, ' ')\n",
    "\n",
    "result = split_name(result, '_')\n",
    "\n",
    "result = split_name(result, '(')\n",
    "\n",
    "FinalRollNUmbers = remove_trainers(result)"
   ]
  },
  {
   "cell_type": "code",
   "execution_count": 11,
   "metadata": {},
   "outputs": [
    {
     "data": {
      "text/plain": [
       "68"
      ]
     },
     "execution_count": 11,
     "metadata": {},
     "output_type": "execute_result"
    }
   ],
   "source": [
    "len(FinalRollNUmbers)"
   ]
  },
  {
   "cell_type": "markdown",
   "metadata": {},
   "source": [
    "### Converting all roll numbers to `Upper case`"
   ]
  },
  {
   "cell_type": "code",
   "execution_count": 12,
   "metadata": {
    "scrolled": true
   },
   "outputs": [],
   "source": [
    "FinalRollNUmbers = rollNumber_upper(FinalRollNUmbers)"
   ]
  },
  {
   "cell_type": "code",
   "execution_count": 13,
   "metadata": {},
   "outputs": [],
   "source": [
    "import pandas as pd"
   ]
  },
  {
   "cell_type": "code",
   "execution_count": 14,
   "metadata": {},
   "outputs": [
    {
     "data": {
      "text/html": [
       "<div>\n",
       "<style scoped>\n",
       "    .dataframe tbody tr th:only-of-type {\n",
       "        vertical-align: middle;\n",
       "    }\n",
       "\n",
       "    .dataframe tbody tr th {\n",
       "        vertical-align: top;\n",
       "    }\n",
       "\n",
       "    .dataframe thead th {\n",
       "        text-align: right;\n",
       "    }\n",
       "</style>\n",
       "<table border=\"1\" class=\"dataframe\">\n",
       "  <thead>\n",
       "    <tr style=\"text-align: right;\">\n",
       "      <th></th>\n",
       "      <th>Roll Number</th>\n",
       "      <th>2020-06-27</th>\n",
       "    </tr>\n",
       "  </thead>\n",
       "  <tbody>\n",
       "    <tr>\n",
       "      <th>0</th>\n",
       "      <td>11307825</td>\n",
       "      <td>P</td>\n",
       "    </tr>\n",
       "    <tr>\n",
       "      <th>1</th>\n",
       "      <td>1210416115</td>\n",
       "      <td>P</td>\n",
       "    </tr>\n",
       "    <tr>\n",
       "      <th>2</th>\n",
       "      <td>121710304049</td>\n",
       "      <td>P</td>\n",
       "    </tr>\n",
       "    <tr>\n",
       "      <th>3</th>\n",
       "      <td>133C1A0505</td>\n",
       "      <td>P</td>\n",
       "    </tr>\n",
       "    <tr>\n",
       "      <th>4</th>\n",
       "      <td>15258</td>\n",
       "      <td>P</td>\n",
       "    </tr>\n",
       "  </tbody>\n",
       "</table>\n",
       "</div>"
      ],
      "text/plain": [
       "    Roll Number 2020-06-27\n",
       "0      11307825          P\n",
       "1    1210416115          P\n",
       "2  121710304049          P\n",
       "3    133C1A0505          P\n",
       "4         15258          P"
      ]
     },
     "execution_count": 14,
     "metadata": {},
     "output_type": "execute_result"
    }
   ],
   "source": [
    "FinalStudentAttendees = pd.DataFrame(FinalRollNUmbers, columns=['Roll Number'])\n",
    "FinalStudentAttendees[str(pd.datetime.today().date())] = ['P' for i in range(len(FinalRollNUmbers))]\n",
    "FinalStudentAttendees.head()"
   ]
  },
  {
   "cell_type": "markdown",
   "metadata": {},
   "source": [
    "### Merging the main students df and gotomeeting students df"
   ]
  },
  {
   "cell_type": "code",
   "execution_count": 15,
   "metadata": {},
   "outputs": [],
   "source": [
    "FinalStudentAttendees = pd.merge(master, FinalStudentAttendees, how = 'left', on = 'Roll Number')"
   ]
  },
  {
   "cell_type": "code",
   "execution_count": 16,
   "metadata": {},
   "outputs": [
    {
     "data": {
      "text/plain": [
       "(142, 2)"
      ]
     },
     "execution_count": 16,
     "metadata": {},
     "output_type": "execute_result"
    }
   ],
   "source": [
    "master.shape"
   ]
  },
  {
   "cell_type": "code",
   "execution_count": 17,
   "metadata": {},
   "outputs": [
    {
     "data": {
      "text/plain": [
       "P    65\n",
       "Name: 2020-06-27, dtype: int64"
      ]
     },
     "execution_count": 17,
     "metadata": {},
     "output_type": "execute_result"
    }
   ],
   "source": [
    "FinalStudentAttendees[str(pd.datetime.today().date())].value_counts()"
   ]
  },
  {
   "cell_type": "code",
   "execution_count": 18,
   "metadata": {
    "scrolled": true
   },
   "outputs": [
    {
     "data": {
      "text/html": [
       "<div>\n",
       "<style scoped>\n",
       "    .dataframe tbody tr th:only-of-type {\n",
       "        vertical-align: middle;\n",
       "    }\n",
       "\n",
       "    .dataframe tbody tr th {\n",
       "        vertical-align: top;\n",
       "    }\n",
       "\n",
       "    .dataframe thead th {\n",
       "        text-align: right;\n",
       "    }\n",
       "</style>\n",
       "<table border=\"1\" class=\"dataframe\">\n",
       "  <thead>\n",
       "    <tr style=\"text-align: right;\">\n",
       "      <th></th>\n",
       "      <th>Roll Number</th>\n",
       "      <th>Student Name_x</th>\n",
       "      <th>Student Name_y</th>\n",
       "      <th>2020-06-27</th>\n",
       "    </tr>\n",
       "  </thead>\n",
       "  <tbody>\n",
       "    <tr>\n",
       "      <th>134</th>\n",
       "      <td>18A85A0241</td>\n",
       "      <td>Punnam Pavani Venkata Durga</td>\n",
       "      <td>Punnam Pavani Venkata Durga</td>\n",
       "      <td>P</td>\n",
       "    </tr>\n",
       "    <tr>\n",
       "      <th>135</th>\n",
       "      <td>15258-M-110</td>\n",
       "      <td>V.Ganeshperumallu</td>\n",
       "      <td>V.Ganeshperumallu</td>\n",
       "      <td>NaN</td>\n",
       "    </tr>\n",
       "    <tr>\n",
       "      <th>136</th>\n",
       "      <td>316114110007</td>\n",
       "      <td>Sravani chappidi</td>\n",
       "      <td>Sravani chappidi</td>\n",
       "      <td>NaN</td>\n",
       "    </tr>\n",
       "    <tr>\n",
       "      <th>137</th>\n",
       "      <td>190030431</td>\n",
       "      <td>DWARAMPUDI VIJAYA SREE SAI REDDY</td>\n",
       "      <td>DWARAMPUDI VIJAYA SREE SAI REDDY</td>\n",
       "      <td>P</td>\n",
       "    </tr>\n",
       "    <tr>\n",
       "      <th>138</th>\n",
       "      <td>17K61A0255</td>\n",
       "      <td>Teeda.Haritha Hema Rani</td>\n",
       "      <td>Teeda.Haritha Hema Rani</td>\n",
       "      <td>NaN</td>\n",
       "    </tr>\n",
       "    <tr>\n",
       "      <th>139</th>\n",
       "      <td>17MIS0068</td>\n",
       "      <td>GOWTHAM KUMAR KOMMANA</td>\n",
       "      <td>GOWTHAM KUMAR KOMMANA</td>\n",
       "      <td>P</td>\n",
       "    </tr>\n",
       "    <tr>\n",
       "      <th>140</th>\n",
       "      <td>18A91A04L9</td>\n",
       "      <td>Nagireddy Mahadevi</td>\n",
       "      <td>Nagireddy Mahadevi</td>\n",
       "      <td>P</td>\n",
       "    </tr>\n",
       "    <tr>\n",
       "      <th>141</th>\n",
       "      <td>19KD1A0543</td>\n",
       "      <td>Chippaladurgakalyan</td>\n",
       "      <td>Chippaladurgakalyan</td>\n",
       "      <td>P</td>\n",
       "    </tr>\n",
       "    <tr>\n",
       "      <th>142</th>\n",
       "      <td>316506402052</td>\n",
       "      <td>MALLELA UJWALA</td>\n",
       "      <td>MALLELA UJWALA</td>\n",
       "      <td>P</td>\n",
       "    </tr>\n",
       "    <tr>\n",
       "      <th>143</th>\n",
       "      <td>1872076</td>\n",
       "      <td>Peyyala Rupeswari</td>\n",
       "      <td>Peyyala Rupeswari</td>\n",
       "      <td>P</td>\n",
       "    </tr>\n",
       "  </tbody>\n",
       "</table>\n",
       "</div>"
      ],
      "text/plain": [
       "      Roll Number                    Student Name_x  \\\n",
       "134    18A85A0241       Punnam Pavani Venkata Durga   \n",
       "135   15258-M-110                 V.Ganeshperumallu   \n",
       "136  316114110007                  Sravani chappidi   \n",
       "137     190030431  DWARAMPUDI VIJAYA SREE SAI REDDY   \n",
       "138    17K61A0255           Teeda.Haritha Hema Rani   \n",
       "139     17MIS0068             GOWTHAM KUMAR KOMMANA   \n",
       "140    18A91A04L9                Nagireddy Mahadevi   \n",
       "141    19KD1A0543               Chippaladurgakalyan   \n",
       "142  316506402052                    MALLELA UJWALA   \n",
       "143       1872076                 Peyyala Rupeswari   \n",
       "\n",
       "                       Student Name_y 2020-06-27  \n",
       "134       Punnam Pavani Venkata Durga          P  \n",
       "135                 V.Ganeshperumallu        NaN  \n",
       "136                  Sravani chappidi        NaN  \n",
       "137  DWARAMPUDI VIJAYA SREE SAI REDDY          P  \n",
       "138           Teeda.Haritha Hema Rani        NaN  \n",
       "139             GOWTHAM KUMAR KOMMANA          P  \n",
       "140                Nagireddy Mahadevi          P  \n",
       "141               Chippaladurgakalyan          P  \n",
       "142                    MALLELA UJWALA          P  \n",
       "143                 Peyyala Rupeswari          P  "
      ]
     },
     "execution_count": 18,
     "metadata": {},
     "output_type": "execute_result"
    }
   ],
   "source": [
    "Unknown = pd.merge(master, FinalStudentAttendees, how = 'right', on = 'Roll Number').tail(10)\n",
    "Unknown"
   ]
  },
  {
   "cell_type": "code",
   "execution_count": 19,
   "metadata": {},
   "outputs": [],
   "source": [
    "FinalStudentAttendees.fillna('A', inplace=True)"
   ]
  },
  {
   "cell_type": "code",
   "execution_count": 20,
   "metadata": {},
   "outputs": [],
   "source": [
    "FinalStudentAttendees.to_excel(str(pd.datetime.today().date())+'.xlsx')"
   ]
  }
 ],
 "metadata": {
  "kernelspec": {
   "display_name": "Python 3",
   "language": "python",
   "name": "python3"
  }
 },
 "nbformat": 4,
 "nbformat_minor": 2
}
